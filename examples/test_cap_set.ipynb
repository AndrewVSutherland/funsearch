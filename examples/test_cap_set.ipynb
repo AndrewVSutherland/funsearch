{
 "cells": [
  {
   "cell_type": "code",
   "execution_count": 1,
   "metadata": {},
   "outputs": [],
   "source": [
    "import numpy as np\n",
    "import itertools\n",
    "\n",
    "def evaluate(n: int) -> int:\n",
    "  \"\"\"Returns the size of an `n`-dimensional cap set.\"\"\"\n",
    "  capset = solve(n)\n",
    "  return len(capset)\n",
    "\n",
    "\n",
    "def solve(n: int) -> np.ndarray:\n",
    "  \"\"\"Returns a large cap set in `n` dimensions.\"\"\"\n",
    "  all_vectors = np.array(list(itertools.product((0, 1, 2), repeat=n)), dtype=np.int32)\n",
    "\n",
    "  # Powers in decreasing order for compatibility with `itertools.product`, so\n",
    "  # that the relationship `i = all_vectors[i] @ powers` holds for all `i`.\n",
    "  powers = 3 ** np.arange(n - 1, -1, -1)\n",
    "\n",
    "  # Precompute all priorities.\n",
    "  priorities = np.array([priority(tuple(vector), n) for vector in all_vectors])\n",
    "\n",
    "  # Build `capset` greedily, using priorities for prioritization.\n",
    "  capset = np.empty(shape=(0, n), dtype=np.int32)\n",
    "  while np.any(priorities != -np.inf):\n",
    "    # Add a vector with maximum priority to `capset`, and set priorities of\n",
    "    # invalidated vectors to `-inf`, so that they never get selected.\n",
    "    max_index = np.argmax(priorities)\n",
    "    vector = all_vectors[None, max_index]  # [1, n]\n",
    "    blocking = np.einsum('cn,n->c', (- capset - vector) % 3, powers)  # [C]\n",
    "    priorities[blocking] = -np.inf\n",
    "    priorities[max_index] = -np.inf\n",
    "    capset = np.concatenate([capset, vector], axis=0)\n",
    "\n",
    "  return capset\n",
    "\n",
    "\n",
    "\n",
    "def priority(el: tuple[int, ...], n: int) -> float:\n",
    "  \"\"\"Returns the priority with which we want to add `element` to the cap set.\n",
    "  el is a tuple of length n with values 0-2.\n",
    "  \"\"\"\n",
    "  \"\"\"Improved version of `priority_v1`.\"\"\"\n",
    "\n",
    "  # Count the number of 0s, 1s, and 2s in the cap set\n",
    "  counts = np.bincount(el, minlength=3)\n",
    "\n",
    "  # Calculate the priority as the size of the cap set divided by the sum of the\n",
    "  # squared differences between the counts, with a bonus for having more 1s and\n",
    "  # a penalty for having more 2s than 0s and for having duplicate elements.\n",
    "  return len(el) / (np.sum(np.square(np.diff(counts))) + np.square(counts[2] - counts[0]) + (len(el) - len(set(el)))) + counts[1] / n\n",
    "# #alternative priority function\n",
    "# def priority(k: int, n: int) -> float:\n",
    "#   \"\"\"Returns the priority with which we want to add `element` to the salem-spencer set.\n",
    "#   n is the number of possible integers, and k is the integer we want to determine priority for. \n",
    "#   \"\"\"\n",
    "#   \"\"\"Improved version of `priority_v0`.\"\"\"\n",
    "#   freq = sum(1 for i in range(1, n + 1) if i % k == 0)  # Frequency of k in [1, n]\n",
    "#   mid = n // 2 + 1  # Middle of the range [1, n]\n",
    "#   return freq / (mid - abs(k - mid))  # Prioritize closer to the middle and higher frequency"
   ]
  },
  {
   "cell_type": "code",
   "execution_count": 9,
   "metadata": {},
   "outputs": [
    {
     "name": "stdout",
     "output_type": "stream",
     "text": [
      "hi: 1537\n"
     ]
    },
    {
     "ename": "AxisError",
     "evalue": "axis -1 is out of bounds for array of dimension 0",
     "output_type": "error",
     "traceback": [
      "\u001b[0;31m---------------------------------------------------------------------------\u001b[0m",
      "\u001b[0;31mAxisError\u001b[0m                                 Traceback (most recent call last)",
      "Cell \u001b[0;32mIn[9], line 3\u001b[0m\n\u001b[1;32m      1\u001b[0m evaluate_result\u001b[38;5;241m=\u001b[39m(evaluate(\u001b[38;5;241m10\u001b[39m))\n\u001b[1;32m      2\u001b[0m \u001b[38;5;28mprint\u001b[39m(\u001b[38;5;124m\"\u001b[39m\u001b[38;5;124mhi:\u001b[39m\u001b[38;5;124m\"\u001b[39m,evaluate_result)\n\u001b[0;32m----> 3\u001b[0m hi \u001b[38;5;241m=\u001b[39m \u001b[43mnp\u001b[49m\u001b[38;5;241;43m.\u001b[39;49m\u001b[43msort\u001b[49m\u001b[43m(\u001b[49m\u001b[43mevaluate_result\u001b[49m\u001b[43m)\u001b[49m\n\u001b[1;32m      6\u001b[0m \u001b[38;5;66;03m#Check if hi contains any arithmetic progressions\u001b[39;00m\n\u001b[1;32m      7\u001b[0m has,prog \u001b[38;5;241m=\u001b[39m has_arithmetic_progression(hi)\n",
      "File \u001b[0;32m/opt/homebrew/Caskroom/miniforge/base/envs/JAX/lib/python3.11/site-packages/numpy/core/fromnumeric.py:1017\u001b[0m, in \u001b[0;36msort\u001b[0;34m(a, axis, kind, order)\u001b[0m\n\u001b[1;32m   1015\u001b[0m \u001b[38;5;28;01melse\u001b[39;00m:\n\u001b[1;32m   1016\u001b[0m     a \u001b[38;5;241m=\u001b[39m asanyarray(a)\u001b[38;5;241m.\u001b[39mcopy(order\u001b[38;5;241m=\u001b[39m\u001b[38;5;124m\"\u001b[39m\u001b[38;5;124mK\u001b[39m\u001b[38;5;124m\"\u001b[39m)\n\u001b[0;32m-> 1017\u001b[0m \u001b[43ma\u001b[49m\u001b[38;5;241;43m.\u001b[39;49m\u001b[43msort\u001b[49m\u001b[43m(\u001b[49m\u001b[43maxis\u001b[49m\u001b[38;5;241;43m=\u001b[39;49m\u001b[43maxis\u001b[49m\u001b[43m,\u001b[49m\u001b[43m \u001b[49m\u001b[43mkind\u001b[49m\u001b[38;5;241;43m=\u001b[39;49m\u001b[43mkind\u001b[49m\u001b[43m,\u001b[49m\u001b[43m \u001b[49m\u001b[43morder\u001b[49m\u001b[38;5;241;43m=\u001b[39;49m\u001b[43morder\u001b[49m\u001b[43m)\u001b[49m\n\u001b[1;32m   1018\u001b[0m \u001b[38;5;28;01mreturn\u001b[39;00m a\n",
      "\u001b[0;31mAxisError\u001b[0m: axis -1 is out of bounds for array of dimension 0"
     ]
    }
   ],
   "source": [
    "evaluate_result=(evaluate(10))\n",
    "print(\"hi:\",evaluate_result)\n",
    "hi = np.sort(evaluate_result)\n",
    "\n",
    "\n",
    "#Check if hi contains any arithmetic progressions\n",
    "has,prog = has_arithmetic_progression(hi)\n",
    "if has:\n",
    "    print(\"The sequence contains an arithmetic progression of length 3 or more.\", prog)\n",
    "else:\n",
    "    print(\"The sequence does not contain any arithmetic progression of length 3 or more.\")\n",
    "\n",
    "print(\"The sequence:\", hi)"
   ]
  },
  {
   "cell_type": "code",
   "execution_count": null,
   "metadata": {},
   "outputs": [],
   "source": []
  }
 ],
 "metadata": {
  "kernelspec": {
   "display_name": "JAX",
   "language": "python",
   "name": "python3"
  },
  "language_info": {
   "codemirror_mode": {
    "name": "ipython",
    "version": 3
   },
   "file_extension": ".py",
   "mimetype": "text/x-python",
   "name": "python",
   "nbconvert_exporter": "python",
   "pygments_lexer": "ipython3",
   "version": "3.11.9"
  }
 },
 "nbformat": 4,
 "nbformat_minor": 2
}
