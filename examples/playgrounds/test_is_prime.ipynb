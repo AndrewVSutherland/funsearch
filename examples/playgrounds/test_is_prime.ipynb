{
 "cells": [
  {
   "cell_type": "code",
   "execution_count": 3,
   "metadata": {},
   "outputs": [],
   "source": [
    "\"\"\"\n",
    "On every iteration, improve priority_v1 over the priority_vX methods from previous iterations.\n",
    "Make only small changes.\n",
    "Try to make the code short.\n",
    "\"\"\"\n",
    "import itertools\n",
    "import numpy as np\n",
    "import math\n",
    "\n",
    "def is_prime(n):\n",
    "    if n <= 1:\n",
    "        return False\n",
    "    for i in range(2, int(math.sqrt(n)) + 1):\n",
    "        if n % i == 0:\n",
    "            return False\n",
    "    return True\n",
    "\n",
    "\n",
    "def evaluate(n: int) -> float:\n",
    "  \"\"\"Returns the size of a certain `n`-dimensional cap set.\"\"\"\n",
    "  #capset = solve(n)\n",
    "  result = np.mean(np.equal(np.vectorize(is_prime)(np.arange(2, n)), np.vectorize(priority)(np.arange(2, n))))\n",
    "  return result\n",
    "\n",
    "\n",
    "def priority(m: int) -> bool:\n",
    "  \"\"\" Return whether or not m is an element of the set\n",
    "  \"\"\"\n",
    "  return False"
   ]
  },
  {
   "cell_type": "code",
   "execution_count": 11,
   "metadata": {},
   "outputs": [
    {
     "name": "stdout",
     "output_type": "stream",
     "text": [
      "len capset: 0.921501843003686\n"
     ]
    }
   ],
   "source": [
    "evaluate_capset=(evaluate(1000000))\n",
    "print(\"len capset:\",(evaluate_capset))\n"
   ]
  },
  {
   "cell_type": "code",
   "execution_count": null,
   "metadata": {},
   "outputs": [],
   "source": []
  }
 ],
 "metadata": {
  "kernelspec": {
   "display_name": "JAX",
   "language": "python",
   "name": "python3"
  },
  "language_info": {
   "codemirror_mode": {
    "name": "ipython",
    "version": 3
   },
   "file_extension": ".py",
   "mimetype": "text/x-python",
   "name": "python",
   "nbconvert_exporter": "python",
   "pygments_lexer": "ipython3",
   "version": "3.11.9"
  }
 },
 "nbformat": 4,
 "nbformat_minor": 2
}
