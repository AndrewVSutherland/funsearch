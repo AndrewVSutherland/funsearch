{
 "cells": [
  {
   "cell_type": "code",
   "execution_count": 18,
   "metadata": {},
   "outputs": [],
   "source": [
    "import ast, inspect, itertools, math, numpy as np\n",
    "\n",
    "ALLOWED_FUNCTIONS = {'itertools', 'numpy', 'np', 'math', 'functools', 'collections', 'random'}\n",
    "DISALLOWED = { '__import__(', 'breakpoint(', 'compile(', 'open(', 'dir(', 'eval(', 'exec(', 'globals(',\n",
    "              'input(', 'repr(', 'savetxt(', 'loadtxt(', 'genfromtxt(', 'fromfile(', 'tofile(', 'frombuffer(',\n",
    "              'save(', 'savez(', 'savez_compressed(', 'load(', 'savetxtas', 'loadtxtas', 'genfromtxtas', \n",
    "              'fromfileas', 'tofileas', 'frombufferas', 'saveas', 'savezas', 'savez_compressedas',\n",
    "              'loadas', '=__import__', '=breakpoint', '=compile', '=open', '=dir', '=eval', '=exec', '=globals',\n",
    "              '=input', '=repr', '=savetxt', '=loadtxt', '=genfromtxt', '=fromfile', '=tofile', '=frombuffer',\n",
    "              '=save', '=savez', '=savez_compressed', '=load',}"
   ]
  },
  {
   "cell_type": "code",
   "execution_count": 19,
   "metadata": {},
   "outputs": [
    {
     "data": {
      "text/plain": [
       "True"
      ]
     },
     "execution_count": 19,
     "metadata": {},
     "output_type": "execute_result"
    }
   ],
   "source": [
    "def my_function():\n",
    "    import numpy as np\n",
    "    from numpy import sqrt, exp\n",
    "    x = list([1,2,3,4])\n",
    "\n",
    "    return sqrt(2)\n",
    "\n",
    "is_function_safe(my_function)"
   ]
  },
  {
   "cell_type": "code",
   "execution_count": 20,
   "metadata": {},
   "outputs": [],
   "source": [
    "def is_function_safe(func):\n",
    "    source = inspect.getsource(func)\n",
    "    parsed = ast.parse(source)\n",
    "\n",
    "    imported_packages = [\n",
    "        node.module for node in ast.walk(parsed)\n",
    "        if isinstance(node, ast.ImportFrom)\n",
    "    ]\n",
    "\n",
    "    if any(pkg not in ALLOWED_FUNCTIONS for pkg in imported_packages):\n",
    "        return False\n",
    "    \n",
    "    imported_packages = [\n",
    "        node.names for node in ast.walk(parsed) if isinstance(node, ast.Import)\n",
    "    ]\n",
    "    imported_packages = [name.name for node in imported_packages for name in node]\n",
    "\n",
    "    if any(pkg not in ALLOWED_FUNCTIONS for pkg in imported_packages):\n",
    "        return False\n",
    "        \n",
    "    if any (banned in source.replace(\" \", \"\") for banned in DISALLOWED):\n",
    "        return False\n",
    "    \n",
    "    return True"
   ]
  },
  {
   "cell_type": "code",
   "execution_count": 4,
   "metadata": {},
   "outputs": [
    {
     "data": {
      "text/plain": [
       "False"
      ]
     },
     "execution_count": 4,
     "metadata": {},
     "output_type": "execute_result"
    }
   ],
   "source": [
    "is_function_safe(my_function)"
   ]
  },
  {
   "cell_type": "code",
   "execution_count": 8,
   "metadata": {},
   "outputs": [],
   "source": [
    "def priority1(v: tuple[int, ...], n: int) -> float:\n",
    "  \"\"\"Returns the priority, as a floating point number, of the vector `v` of length `n`. The vector 'v' is a tuple of values in {0,1,2}.\n",
    "    The cap set will be constructed by adding vectors that do not create a line in order by priority.\n",
    "  \"\"\"\n",
    "  pair_count = len(set(itertools.combinations(v, 2)))\n",
    "  return pair_count / (n * (n - 1) / 2)\n",
    "\n",
    "\n",
    "def priority2(v: tuple[int, ...], n: int) -> float:\n",
    "  \"\"\"Returns the priority, as a floating point number, of the vector `v` of length `n`. The vector 'v' is a tuple of values in {0,1,2}.\n",
    "    The cap set will be constructed by adding vectors that do not create a line in order by priority.\n",
    "  \"\"\"\n",
    "  v = sorted(v)\n",
    "  pair_count = sum(1 for i in range(1, n) if v[i] != v[i-1])\n",
    "  return pair_count / n\n",
    "\n",
    "\n",
    "def priority3(v: tuple[int, ...], n: int) -> float:\n",
    "  \"\"\"Returns the priority, as a floating point number, of the vector `v` of length `n`. The vector 'v' is a tuple of values in {0,1,2}.\n",
    "    The cap set will be constructed by adding vectors that do not create a line in order by priority.\n",
    "  \"\"\"\n",
    "  unique_values = np.unique(v)\n",
    "  pair_count = sum(1 for i in range(n) for j in range(i+1, n) if v[i] != v[j])\n",
    "  diversity = len(unique_values) / n\n",
    "  return pair_count / n + diversity\n",
    "\n",
    "\n",
    "def priority4(v: tuple[int, ...], n: int) -> float:\n",
    "  \"\"\"Returns the priority, as a floating point number, of the vector `v` of length `n`. The vector 'v' is a tuple of values in {0,1,2}.\n",
    "    The cap set will be constructed by adding vectors that do not create a line in order by priority.\n",
    "  \"\"\"\n",
    "  unique_elements = len(set(v))\n",
    "  pair_count = sum(1 for i in range(n) for j in range(i+1, n) if v[i] != v[j])\n",
    "  return (unique_elements * pair_count) / (n * (n-1))\n",
    "\n",
    "def priority5(v: tuple[int, ...], n: int) -> float:\n",
    "  \"\"\"Returns the priority, as a floating point number, of the vector `v` of length `n`. The vector 'v' is a tuple of values in {0,1,2}.\n",
    "    The cap set will be constructed by adding vectors that do not create a line in order by priority.\n",
    "  \"\"\"\n",
    "  # This function is identical to `priority_v2`; we're only adding it to maintain the sequence of function names\n",
    "  return priority_v2(v, n)\n",
    "\n",
    "\n",
    "def priority6(v: tuple[int, ...], n: int) -> float:\n",
    "  \"\"\"Returns the priority, as a floating point number, of the vector `v` of length `n`. The vector 'v' is a tuple of values in {0,1,2}.\n",
    "    The cap set will be constructed by adding vectors that do not create a line in order by priority.\n",
    "  \"\"\"\n",
    "  count = 0\n",
    "  for i in range(n):\n",
    "    for j in range(i+1, n):\n",
    "      if v[i] != v[j]:\n",
    "        count += 1\n",
    "  return count / n\n",
    "\n",
    "\n",
    "def priority7(v: tuple[int, ...], n: int) -> float:\n",
    "  \"\"\"Returns the priority, as a floating point number, of the vector `v` of length `n`. The vector 'v' is a tuple of values in {0,1,2}.\n",
    "    The cap set will be constructed by adding vectors that do not create a line in order by priority.\n",
    "  \"\"\"\n",
    "  # Convert vector to a bitmask by inverting each 3-valued entry and joining them as a single binary number\n",
    "  bitmask = sum(2**i for i in range(n) if v[i] != 0)\n",
    "  # Calculate the number of 1s in the bitmask to get the pair count\n",
    "  pair_count = np.popcount(bitmask)\n",
    "  return pair_count / n\n",
    "\n",
    "\n",
    "def priority8(v: tuple[int, ...], n: int) -> float:\n",
    "  \"\"\"Returns the priority, as a floating point number, of the vector `v` of length `n`. The vector 'v' is a tuple of values in {0,1,2}.\n",
    "    The cap set will be constructed by adding vectors that do not create a line in order by priority.\n",
    "  \"\"\"\n",
    "  unique_pairs = len(set(list(itertools.combinations(v, 2))))\n",
    "  return unique_pairs / np.math.comb(n, 2)\n",
    "\n",
    "def priority9(v: tuple[int, ...], n: int) -> float:\n",
    "  \"\"\"Returns the priority, as a floating point number, of the vector `v` of length `n`. The vector 'v' is a tuple of values in {0,1,2}.\n",
    "    The cap set will be constructed by adding vectors that do not create a line in order by priority.\n",
    "  \"\"\"\n",
    "  unique_pairs = open('test')\n",
    "  return unique_pairs / np.math.comb(n, 2)\n",
    "\n",
    "def priority10(v: tuple[int, ...], n: int) -> float:\n",
    "  \"\"\"Returns the priority, as a floating point number, of the vector `v` of length `n`. The vector 'v' is a tuple of values in {0,1,2}.\n",
    "      The cap set will be constructed by adding vectors that do not create a line in order by priority.\n",
    "      This version checks for collinearity by calculating the determinant of the 3x3 matrix made from the vectors.\n",
    "  \"\"\"\n",
    "  # Calculate the dot product of each pair of vectors\n",
    "  dot_products = np.outer(v, v)[::-1].sum(axis=0)\n",
    "\n",
    "  # Add a small epsilon to avoid singularity\n",
    "  epsilon = 1e-8\n",
    "  determinant = np.linalg.det(np.vstack((v, dot_products, np.ones(n))).T + epsilon * np.eye(n + 1))\n",
    "\n",
    "  # Normalize the determinant to a range of [0, 1]\n",
    "  return 1.0 - np.abs(determinant) / (np.linalg.det(np.eye(n + 1)) ** 2)\n",
    "\n",
    "def priority11(v: tuple[int, ...], n: int) -> float:\n",
    "  \"\"\"Returns the priority, as a floating point number, of the vector `v` of length `n`. The vector 'v' is a tuple of values in {0,1,2}.\n",
    "      The cap set will be constructed by adding vectors that do not create a line in order by priority.\n",
    "      This version uses a simple heuristic to prioritize vectors with fewer lines.\n",
    "  \"\"\"\n",
    "  lines = set()\n",
    "  for i in range(n):\n",
    "    for j in range(i+1, n):\n",
    "      if np.sum(np.array(v[i:j+1]) == np.array(v[i:j+1]).sum(axis=0)) == 3:\n",
    "        lines.add((i, j))\n",
    "  if lines:\n",
    "    return len(lines)\n",
    "  else:\n",
    "    return 0.0"
   ]
  },
  {
   "cell_type": "code",
   "execution_count": 6,
   "metadata": {},
   "outputs": [
    {
     "name": "stdout",
     "output_type": "stream",
     "text": [
      "150 µs ± 3.03 µs per loop (mean ± std. dev. of 7 runs, 10,000 loops each)\n",
      "180 µs ± 4.75 µs per loop (mean ± std. dev. of 7 runs, 10,000 loops each)\n",
      "240 µs ± 13.3 µs per loop (mean ± std. dev. of 7 runs, 1,000 loops each)\n",
      "239 µs ± 8.87 µs per loop (mean ± std. dev. of 7 runs, 1,000 loops each)\n",
      "103 µs ± 1.41 µs per loop (mean ± std. dev. of 7 runs, 10,000 loops each)\n",
      "206 µs ± 2.27 µs per loop (mean ± std. dev. of 7 runs, 10,000 loops each)\n",
      "192 µs ± 8.57 µs per loop (mean ± std. dev. of 7 runs, 10,000 loops each)\n",
      "181 µs ± 6.82 µs per loop (mean ± std. dev. of 7 runs, 10,000 loops each)\n",
      "160 µs ± 12 µs per loop (mean ± std. dev. of 7 runs, 10,000 loops each)\n",
      "372 µs ± 28.3 µs per loop (mean ± std. dev. of 7 runs, 1,000 loops each)\n",
      "350 µs ± 23.7 µs per loop (mean ± std. dev. of 7 runs, 1,000 loops each)\n"
     ]
    }
   ],
   "source": [
    "%timeit is_function_safe(priority1)\n",
    "%timeit is_function_safe(priority2)\n",
    "%timeit is_function_safe(priority3)\n",
    "%timeit is_function_safe(priority4)\n",
    "%timeit is_function_safe(priority5)\n",
    "%timeit is_function_safe(priority6)\n",
    "%timeit is_function_safe(priority7)\n",
    "%timeit is_function_safe(priority8)\n",
    "%timeit is_function_safe(priority9)\n",
    "%timeit is_function_safe(priority10)\n",
    "%timeit is_function_safe(priority11)\n"
   ]
  },
  {
   "cell_type": "code",
   "execution_count": 9,
   "metadata": {},
   "outputs": [
    {
     "name": "stdout",
     "output_type": "stream",
     "text": [
      "True\n",
      "True\n",
      "True\n",
      "True\n",
      "True\n",
      "True\n",
      "True\n",
      "True\n",
      "False\n",
      "True\n",
      "True\n"
     ]
    }
   ],
   "source": [
    "print(is_function_safe(priority1))\n",
    "print(is_function_safe(priority2))\n",
    "print(is_function_safe(priority3))\n",
    "print(is_function_safe(priority4))\n",
    "print(is_function_safe(priority5))\n",
    "print(is_function_safe(priority6))\n",
    "print(is_function_safe(priority7))\n",
    "print(is_function_safe(priority8))\n",
    "print(is_function_safe(priority9))\n",
    "print(is_function_safe(priority10))\n",
    "print(is_function_safe(priority11))"
   ]
  },
  {
   "cell_type": "code",
   "execution_count": 10,
   "metadata": {},
   "outputs": [
    {
     "data": {
      "text/plain": [
       "True"
      ]
     },
     "execution_count": 10,
     "metadata": {},
     "output_type": "execute_result"
    }
   ],
   "source": [
    "def priority_v2(v: tuple[int, ...], n: int) -> float:\n",
    "    \"\"\"Improves the priority calculation by considering the distribution of 0's, 1's, and 2's in the vector 'v'.\n",
    "    The priority is inversely proportional to the number of occurrences of each unique value in 'v'.\n",
    "    \"\"\"\n",
    "    unique_values = np.unique(v)\n",
    "    counts = [list(v).count(val) for val in unique_values]\n",
    "    if 1 in counts:\n",
    "        priority = np.mean([1/c for c in counts if c != 1])\n",
    "    else:\n",
    "        priority = 1.0\n",
    "    return priority\n",
    "\n",
    "is_function_safe(priority_v2)"
   ]
  },
  {
   "cell_type": "code",
   "execution_count": 11,
   "metadata": {},
   "outputs": [
    {
     "data": {
      "text/plain": [
       "False"
      ]
     },
     "execution_count": 11,
     "metadata": {},
     "output_type": "execute_result"
    }
   ],
   "source": [
    "def priority_v2(v: tuple[int, ...], n: int) -> float:\n",
    "  \"\"\"Improved version of `priority_v1`.\n",
    "  \"\"\"\n",
    "  sums, freqs = set(), {}\n",
    "  for _ in itertools.combinations(v, 3):\n",
    "    sum_ = sum(x for x in _)\n",
    "    sums.add(sum_)\n",
    "    if sum_ not in freqs:\n",
    "      freqs[sum_] = 0\n",
    "    freqs[sum_] += 1\n",
    "  return len(sums) / (n * (n - 1) * (n - 2)) + len(freqs)\n",
    "\n",
    "is_function_safe(priority_v2)"
   ]
  },
  {
   "cell_type": "code",
   "execution_count": 12,
   "metadata": {},
   "outputs": [
    {
     "data": {
      "text/plain": [
       "True"
      ]
     },
     "execution_count": 12,
     "metadata": {},
     "output_type": "execute_result"
    }
   ],
   "source": [
    "def priority_v2(v: tuple[int, ...], n: int) -> float:\n",
    "  \"\"\"Improved version of `priority_v1`.\n",
    "  \"\"\"\n",
    "  sums, freqs = set(), {}\n",
    "  for _ in itertools.combinations(v, 3):\n",
    "    sum_ = sum(x for x in _)\n",
    "    sums.add(sum_)\n",
    "    if sum_ not in freqs:\n",
    "      freqs[sum_] = 0\n",
    "    freqs[sum_] += 1\n",
    "  return len(sums) / (n * (n - 1) * (n - 2)) + len(freqs)\n",
    "\n",
    "is_function_safe(priority_v2)"
   ]
  },
  {
   "cell_type": "code",
   "execution_count": 15,
   "metadata": {},
   "outputs": [
    {
     "data": {
      "text/plain": [
       "True"
      ]
     },
     "execution_count": 15,
     "metadata": {},
     "output_type": "execute_result"
    }
   ],
   "source": [
    "def priority_v3(v: tuple[int, ...], n: int) -> float:\n",
    "  \"\"\"Further improved version of `priority_v1`.\n",
    "  \"\"\"\n",
    "  unique_counts = np.bincount(v, minlength=3)\n",
    "  two_counts = np.bincount(unique_counts, minlength=2)\n",
    "  three_counts = np.bincount(unique_counts, minlength=3)\n",
    "\n",
    "  # Calculate the count of unique vectors and vectors with 2 or 3 occurrences\n",
    "  unique_counts_nonzero = unique_counts[unique_counts > 0].sum()\n",
    "  two_counts_nonzero = two_counts[two_counts > 0].sum()\n",
    "\n",
    "  # Calculate the number of vectors with 3 occurrences\n",
    "  three_counts_nonzero = three_counts[three_counts > 0].sum()\n",
    "\n",
    "  # Penalty for vectors with 3 occurrences\n",
    "  penalty = 3 * three_counts_nonzero\n",
    "\n",
    "  # Penalty for vectors with 2 occurrences, considering their multiplicity\n",
    "  two_counts_penalty = sum(i * (i - 1) for i in two_counts[two_counts > 0])\n",
    "\n",
    "  # Return the priority value\n",
    "  return np.prod(unique_counts) * (n - unique_counts_nonzero) * len(two_counts[two_counts > 0]) * np.exp(-penalty - 0.5 * two_counts_penalty)\n",
    "\n",
    "is_function_safe(priority_v3)"
   ]
  },
  {
   "cell_type": "code",
   "execution_count": 14,
   "metadata": {},
   "outputs": [
    {
     "data": {
      "text/plain": [
       "True"
      ]
     },
     "execution_count": 14,
     "metadata": {},
     "output_type": "execute_result"
    }
   ],
   "source": [
    "def priority_v2(v: tuple[int, ...], n: int) -> float:\n",
    "  \"\"\"Improved version of `priority_v1`.\n",
    "  This version considers the distance between consecutive points.\n",
    "  \"\"\"\n",
    "  diff = np.abs(np.roll(v, 1) - v)\n",
    "  distances = np.sum(diff)\n",
    "  direction_changes = (diff[1:] != diff[:-1]).sum()\n",
    "  return distances * n + (n - 1) * (distances / (n - 1)) * direction_changes\n",
    "\n",
    "is_function_safe(priority_v2)"
   ]
  },
  {
   "cell_type": "code",
   "execution_count": 21,
   "metadata": {},
   "outputs": [
    {
     "data": {
      "text/plain": [
       "False"
      ]
     },
     "execution_count": 21,
     "metadata": {},
     "output_type": "execute_result"
    }
   ],
   "source": [
    "def priority_v3(v: tuple[int, ...], n: int) -> float:\n",
    "    \"\"\"\n",
    "    Improved version of `priority_v2`. This version uses the Counter from collections module to improve efficiency.\n",
    "    \"\"\"\n",
    "    from collections import Counter\n",
    "    value_counter = Counter(v)\n",
    "    return len(set(value_counter.elements()) & {0, 1, 2})\n",
    "\n",
    "is_function_safe(priority_v3)"
   ]
  },
  {
   "cell_type": "code",
   "execution_count": null,
   "metadata": {},
   "outputs": [],
   "source": []
  }
 ],
 "metadata": {
  "kernelspec": {
   "display_name": "jaxVenv",
   "language": "python",
   "name": "jaxvenv"
  },
  "language_info": {
   "codemirror_mode": {
    "name": "ipython",
    "version": 3
   },
   "file_extension": ".py",
   "mimetype": "text/x-python",
   "name": "python",
   "nbconvert_exporter": "python",
   "pygments_lexer": "ipython3",
   "version": "3.11.10"
  }
 },
 "nbformat": 4,
 "nbformat_minor": 2
}
