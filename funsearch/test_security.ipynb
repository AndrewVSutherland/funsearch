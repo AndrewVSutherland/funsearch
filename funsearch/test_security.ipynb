{
 "cells": [
  {
   "cell_type": "code",
   "execution_count": 1,
   "metadata": {},
   "outputs": [],
   "source": [
    "import ast, inspect\n",
    "\n",
    "ALLOWED_FUNCTIONS = {'itertools', 'numpy', 'np'}\n",
    "DISALLOWED_BUILTINS = {'print','__import__','breakpoint','compile','open','dir','eval','exec','globals','input','repr'}\n",
    "\n",
    "class FunctionChecker(ast.NodeVisitor):\n",
    "    def __init__(self):\n",
    "        self.is_safe = True\n",
    "\n",
    "    def visit_Import(self, node):\n",
    "        for alias in node.names:\n",
    "            if alias.name not in ALLOWED_FUNCTIONS:\n",
    "                self.is_safe = False\n",
    "            self.generic_visit(node)\n",
    "\n",
    "    def visit_ImportFrom(self, node):\n",
    "        if node.module not in ALLOWED_FUNCTIONS:\n",
    "            self.is_safe = False\n",
    "        self.generic_visit(node)\n",
    "\n",
    "    def visit_Call(self, node):\n",
    "        # Check for disallowed built-in function calls\n",
    "        if isinstance(node.func, ast.Name):\n",
    "            if node.func.id in DISALLOWED_BUILTINS:\n",
    "                self.is_safe = False\n",
    "        # Check if function calls are from allowed modules\n",
    "        elif isinstance(node.func, ast.Attribute):\n",
    "            if node.func.value.id not in ALLOWED_FUNCTIONS:\n",
    "                self.is_safe = False\n",
    "        self.generic_visit(node)\n",
    "\n",
    "def is_function_safe(func):\n",
    "    function_code = inspect.getsource(func)\n",
    "    tree = ast.parse(function_code)\n",
    "    checker = FunctionChecker()\n",
    "    checker.visit(tree)\n",
    "    return checker.is_safe\n",
    "\n",
    "def is_function_safe_string(function_code:str)->bool:\n",
    "    #function_code = inspect.getsource(func)\n",
    "    tree = ast.parse(function_code)\n",
    "    checker = FunctionChecker()\n",
    "    checker.visit(tree)\n",
    "    return checker.is_safe"
   ]
  },
  {
   "cell_type": "code",
   "execution_count": 2,
   "metadata": {},
   "outputs": [
    {
     "name": "stdout",
     "output_type": "stream",
     "text": [
      "True\n"
     ]
    }
   ],
   "source": [
    "import numpy as np\n",
    "import jax.numpy as jnp\n",
    "\n",
    "def my_function():\n",
    "    #import matplotlib.pyplot as plt\n",
    "    #print(5)\n",
    "    #eval('print(2)')\n",
    "    return np.mean([1, 2, 3])\n",
    "\n",
    "print(is_function_safe(my_function))\n",
    "\n",
    "#my_function()"
   ]
  },
  {
   "cell_type": "code",
   "execution_count": 3,
   "metadata": {},
   "outputs": [
    {
     "ename": "SyntaxError",
     "evalue": "invalid syntax (3115579707.py, line 1)",
     "output_type": "error",
     "traceback": [
      "\u001b[0;36m  Cell \u001b[0;32mIn[3], line 1\u001b[0;36m\u001b[0m\n\u001b[0;31m    string = 'def priority(v: tuple[int, ...], n: int) -> float: \\n\"\"\"Returns the priority, as a floating point number, of the vector `v` of length `n`. The vector 'v' is a tuple of values in {0,1,2}.\\nThe cap set will be constructed by adding vectors that do not create a line in order by priority. \\n\\nreturn 0.0'\u001b[0m\n\u001b[0m                                                                                                                                                                     ^\u001b[0m\n\u001b[0;31mSyntaxError\u001b[0m\u001b[0;31m:\u001b[0m invalid syntax\n"
     ]
    }
   ],
   "source": []
  },
  {
   "cell_type": "code",
   "execution_count": null,
   "metadata": {},
   "outputs": [],
   "source": []
  }
 ],
 "metadata": {
  "kernelspec": {
   "display_name": "jaxVenv",
   "language": "python",
   "name": "jaxvenv"
  },
  "language_info": {
   "codemirror_mode": {
    "name": "ipython",
    "version": 3
   },
   "file_extension": ".py",
   "mimetype": "text/x-python",
   "name": "python",
   "nbconvert_exporter": "python",
   "pygments_lexer": "ipython3",
   "version": "3.11.10"
  }
 },
 "nbformat": 4,
 "nbformat_minor": 2
}
